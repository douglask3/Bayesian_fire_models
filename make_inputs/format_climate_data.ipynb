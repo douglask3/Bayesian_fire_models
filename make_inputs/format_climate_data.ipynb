{
 "cells": [
  {
   "cell_type": "markdown",
   "metadata": {},
   "source": [
    "## Formatting the climate data\n",
    "So it has named dimensions if they don't already"
   ]
  },
  {
   "cell_type": "code",
   "execution_count": 41,
   "metadata": {},
   "outputs": [
    {
     "name": "stdout",
     "output_type": "stream",
     "text": [
      "The autoreload extension is already loaded. To reload it, use:\n",
      "  %reload_ext autoreload\n"
     ]
    }
   ],
   "source": [
    "# Libraries\n",
    "%load_ext autoreload\n",
    "%autoreload\n",
    "\n",
    "import numpy as np\n",
    "import iris\n",
    "import iris.coord_categorisation\n",
    "import pandas as pd\n",
    "\n",
    "import sys\n",
    "sys.path.append('../')\n",
    "from libs.plot_maps import *\n",
    "\n",
    "\n",
    "import warnings\n",
    "warnings.filterwarnings('ignore')\n",
    "import matplotlib.pyplot as plt\n",
    "import numpy.ma as ma\n",
    "%matplotlib inline\n",
    "import cartopy.crs as ccrs"
   ]
  },
  {
   "cell_type": "markdown",
   "metadata": {},
   "source": [
    "Loading in the data (ignoring precipation because (a) we don't need it and (b) it has additional dimension coordinates (lat_bnds and lon_bnds) which upset iris."
   ]
  },
  {
   "cell_type": "code",
   "execution_count": 42,
   "metadata": {
    "scrolled": true
   },
   "outputs": [
    {
     "name": "stdout",
     "output_type": "stream",
     "text": [
      "air\n",
      "precip\n",
      "precip.mon.mean.nc\n",
      "lightning\n",
      "relative_humidity\n"
     ]
    }
   ],
   "source": [
    "dir_data     = '../data/'\n",
    "dir_temp     = '../temp/'\n",
    "dir_outputs  = '../outputs/climate/'\n",
    "files      = { 'air'               : 'air.mon.mean.nc',\n",
    "               'precip'            : 'precip.mon.mean.nc',\n",
    "               'lightning'         : 'lightn_climatology_otd_mlnha.nc',\n",
    "               'relative_humidity' : 'rhum.mon.mean.nc'}\n",
    "\n",
    "input_data = {}\n",
    "\n",
    "\n",
    "\n",
    "for key, f in files.items():\n",
    "    print(key)\n",
    "    try:\n",
    "        dat = iris.load_cube(dir_data + f)\n",
    "    except:\n",
    "        print(f)\n",
    "        dat = iris.load(dir_data + f)[0]\n",
    "    input_data[key] = dat"
   ]
  },
  {
   "cell_type": "code",
   "execution_count": 43,
   "metadata": {},
   "outputs": [
    {
     "data": {
      "text/plain": [
       "{'air': <iris 'Cube' of Monthly Mean Air Temperature at sigma level 0.995 / (degC) (time: 865; latitude: 73; longitude: 144)>,\n",
       " 'precip': <iris 'Cube' of Average Monthly Rate of Precipitation / (mm/day) (time: 493; latitude: 72; longitude: 144)>,\n",
       " 'lightning': <iris 'Cube' of lightn / (1) (time: 12; latitude: 360; longitude: 720)>,\n",
       " 'relative_humidity': <iris 'Cube' of Monthly Mean Relative Humidity at sigma level 0.995 / (%) (time: 865; latitude: 73; longitude: 144)>}"
      ]
     },
     "execution_count": 43,
     "metadata": {},
     "output_type": "execute_result"
    }
   ],
   "source": [
    "input_data"
   ]
  },
  {
   "cell_type": "markdown",
   "metadata": {},
   "source": [
    "Adding a year coordinate to relative humidity and air files and cutting it off before 2001:"
   ]
  },
  {
   "cell_type": "code",
   "execution_count": 44,
   "metadata": {},
   "outputs": [],
   "source": [
    "post_2001 = {}\n",
    "for key in input_data.keys():\n",
    "    if key != 'lightning':\n",
    "            # Add coord of year\n",
    "            iris.coord_categorisation.add_year(input_data[key], 'time', name='year')\n",
    "            \n",
    "            # Extract from 2001 onwards\n",
    "            post_2001[key] = input_data[key].extract(iris.Constraint(year=lambda y: y >= 2001))"
   ]
  },
  {
   "cell_type": "markdown",
   "metadata": {},
   "source": [
    "## Lightning\n",
    "Regrid lightning to the mask:"
   ]
  },
  {
   "cell_type": "code",
   "execution_count": 45,
   "metadata": {},
   "outputs": [],
   "source": [
    "air_temp = input_data['air'].collapsed('time', iris.analysis.MEAN)\n",
    "\n",
    "input_data['lightning'] = input_data['lightning'].regrid(air_temp, iris.analysis.Linear())"
   ]
  },
  {
   "cell_type": "code",
   "execution_count": 46,
   "metadata": {},
   "outputs": [
    {
     "name": "stdout",
     "output_type": "stream",
     "text": [
      "lightn / (1)                        (time: 12; latitude: 73; longitude: 144)\n",
      "     Dimension coordinates:\n",
      "          time                           x             -              -\n",
      "          latitude                       -             x              -\n",
      "          longitude                      -             -              x\n",
      "     Attributes:\n",
      "          comment_1: LIS/OTD 0.5 Degree High Resolution Monthly Climatology (HRMC)\n",
      "          comment_2:: non-transient\n",
      "          comment_3:: (i.e, average lightening in period of oberservation for each month)\n",
      "          comment_4:: Units: Flash count per km2\n",
      "          history: Wed Apr  2 19:04:33 2008: ncap -O -s lightn[time,lat,lon]=float(lightn*10000.)...\n",
      "Monthly Mean Air Temperature at sigma level 0.995 / (degC) (time: 229; latitude: 73; longitude: 144)\n",
      "     Dimension coordinates:\n",
      "          time                                                  x              -              -\n",
      "          latitude                                              -              x              -\n",
      "          longitude                                             -              -              x\n",
      "     Auxiliary coordinates:\n",
      "          year                                                  x              -              -\n",
      "     Attributes:\n",
      "          Conventions: COARDS\n",
      "          NCO: 20121012\n",
      "          References: http://www.esrl.noaa.gov/psd/data/gridded/data.ncep.reanalysis.derived...\n",
      "          actual_range: [-73.78001  42.14595]\n",
      "          dataset: NCEP Reanalysis Derived Products\n",
      "          dataset_title: NCEP-NCAR Reanalysis 1\n",
      "          description: Data from NCEP initialized reanalysis (4x/day).  These are the 0.9950 sigma...\n",
      "          history: Thu May  4 20:11:16 2000: ncrcat -d time,0,623 /Datasets/ncep.reanalysis.derived/surface/air.mon.mean.nc...\n",
      "          least_significant_digit: 0\n",
      "          level_desc: Surface\n",
      "          parent_stat: Individual Obs\n",
      "          platform: Model\n",
      "          precision: 1\n",
      "          statistic: Mean\n",
      "          title: monthly mean air.sig995 from the NCEP Reanalysis\n",
      "          valid_range: [-2000.  2000.]\n",
      "          var_desc: Air Temperature\n"
     ]
    }
   ],
   "source": [
    "lightning = post_2001['air'].copy()\n",
    "print(input_data['lightning'])\n",
    "print(lightning)"
   ]
  },
  {
   "cell_type": "code",
   "execution_count": 47,
   "metadata": {},
   "outputs": [
    {
     "name": "stdout",
     "output_type": "stream",
     "text": [
      "j:  0\n",
      "j:  12\n",
      "j:  24\n",
      "j:  36\n",
      "j:  48\n",
      "j:  60\n",
      "j:  72\n",
      "j:  84\n",
      "j:  96\n",
      "j:  108\n",
      "j:  120\n",
      "j:  132\n",
      "j:  144\n",
      "j:  156\n",
      "j:  168\n",
      "j:  180\n",
      "j:  192\n",
      "j:  204\n",
      "j:  216\n",
      "1\n",
      "j:  228\n"
     ]
    }
   ],
   "source": [
    "lightning = post_2001['air'].copy()\n",
    "light = lightning.aggregated_by(['year'], iris.analysis.MEAN)\n",
    "j = 0\n",
    "for k in range(len(light.coord('year').points) - 1):\n",
    "    lightning.data[j:j+12,:,:] = input_data['lightning'].data\n",
    "    print('j: ', j)\n",
    "    j += 12\n",
    "\n",
    "# In 2019, we've only reached Aug, so I'll add the data in for this single case\n",
    "print(lightning.shape[0]-j)\n",
    "lightning.data[j:,:,:] = input_data['lightning'].data[:(lightning.shape[0]-j), :, :]\n",
    "print('j: ', j)\n",
    "post_2001['lightning'] = lightning"
   ]
  },
  {
   "cell_type": "markdown",
   "metadata": {},
   "source": [
    "#### Saving files (all)"
   ]
  },
  {
   "cell_type": "code",
   "execution_count": 48,
   "metadata": {},
   "outputs": [],
   "source": [
    "for key in post_2001.keys():\n",
    "    out = key + '2001-2019_test.nc'\n",
    "    iris.save(post_2001[key], dir_temp + out)"
   ]
  },
  {
   "cell_type": "markdown",
   "metadata": {},
   "source": [
    "### Adding coord system"
   ]
  },
  {
   "cell_type": "code",
   "execution_count": 49,
   "metadata": {},
   "outputs": [
    {
     "name": "stdout",
     "output_type": "stream",
     "text": [
      "air\n",
      "precip\n",
      "lightning\n",
      "relative_humidity\n"
     ]
    }
   ],
   "source": [
    "files      = { 'air'               : 'air2001-2019_test.nc',\n",
    "               'precip'            : \"precip2001-2019_test.nc\",\n",
    "               'lightning'         : 'lightning2001-2019_test.nc',\n",
    "               'relative_humidity' : 'relative_humidity2001-2019_test.nc'}\n",
    "\n",
    "input_data = {}\n",
    "\n",
    "for key, f in files.items():\n",
    "    print(key)\n",
    "    dat = iris.load_cube(dir_temp + f)\n",
    "    input_data[key] = dat"
   ]
  },
  {
   "cell_type": "code",
   "execution_count": 50,
   "metadata": {},
   "outputs": [],
   "source": [
    "lat = input_data['air'].coord('latitude').points\n",
    "lon = input_data['air'].coord('longitude').points"
   ]
  },
  {
   "cell_type": "code",
   "execution_count": 51,
   "metadata": {},
   "outputs": [],
   "source": [
    "# Dim coord for latitude (index: 1)\n",
    "coord_lat = iris.coords.DimCoord(lat, standard_name='latitude',\n",
    "                                 coord_system=iris.coord_systems.GeogCS(6371229.0),var_name='latitude',\n",
    "                                 units='degrees')\n",
    "\n",
    "# Dim coord for longitude (index: 2)\n",
    "coord_lon = iris.coords.DimCoord(lon, standard_name='longitude',\n",
    "                                 coord_system=iris.coord_systems.GeogCS(6371229.0),var_name='longitude',\n",
    "                                 units='degrees')"
   ]
  },
  {
   "cell_type": "code",
   "execution_count": 52,
   "metadata": {},
   "outputs": [
    {
     "name": "stdout",
     "output_type": "stream",
     "text": [
      "{'air': <iris 'Cube' of Monthly Mean Air Temperature at sigma level 0.995 / (degC) (time: 229; latitude: 73; longitude: 144)>, 'precip': <iris 'Cube' of Average Monthly Rate of Precipitation / (mm/day) (time: 229; latitude: 72; longitude: 144)>, 'lightning': <iris 'Cube' of Monthly Mean Air Temperature at sigma level 0.995 / (degC) (time: 229; latitude: 73; longitude: 144)>, 'relative_humidity': <iris 'Cube' of Monthly Mean Relative Humidity at sigma level 0.995 / (%) (time: 229; latitude: 73; longitude: 144)>}\n"
     ]
    }
   ],
   "source": [
    "print(input_data)"
   ]
  },
  {
   "cell_type": "code",
   "execution_count": 53,
   "metadata": {},
   "outputs": [],
   "source": [
    "for key in input_data.keys():\n",
    "    try:\n",
    "        input_data[key].remove_coord('latitude')\n",
    "        input_data[key].remove_coord('longitude')\n",
    "    \n",
    "        # Adding dimension coordinates to data\n",
    "        input_data[key].add_dim_coord(coord_lat, 1)\n",
    "        input_data[key].add_dim_coord(coord_lon, 2)\n",
    "    except:\n",
    "        pass"
   ]
  },
  {
   "cell_type": "code",
   "execution_count": 54,
   "metadata": {},
   "outputs": [
    {
     "name": "stdout",
     "output_type": "stream",
     "text": [
      "air\n",
      "precip\n",
      "lightning\n",
      "relative_humidity\n"
     ]
    }
   ],
   "source": [
    "for key in input_data.keys():\n",
    "    out = key + '2001-2019.nc'\n",
    "    print(key)\n",
    "    iris.save(input_data[key], dir_outputs + out)"
   ]
  },
  {
   "cell_type": "code",
   "execution_count": null,
   "metadata": {},
   "outputs": [],
   "source": []
  },
  {
   "cell_type": "code",
   "execution_count": null,
   "metadata": {},
   "outputs": [],
   "source": []
  },
  {
   "cell_type": "code",
   "execution_count": null,
   "metadata": {},
   "outputs": [],
   "source": []
  }
 ],
 "metadata": {
  "kernelspec": {
   "display_name": "Python 3",
   "language": "python",
   "name": "python3"
  },
  "language_info": {
   "codemirror_mode": {
    "name": "ipython",
    "version": 3
   },
   "file_extension": ".py",
   "mimetype": "text/x-python",
   "name": "python",
   "nbconvert_exporter": "python",
   "pygments_lexer": "ipython3",
   "version": "3.7.3"
  }
 },
 "nbformat": 4,
 "nbformat_minor": 4
}
