{
 "cells": [
  {
   "cell_type": "markdown",
   "metadata": {},
   "source": [
    "### Regridding data to climate grid scale\n",
    "[18-09-19]"
   ]
  },
  {
   "cell_type": "code",
   "execution_count": 1,
   "metadata": {},
   "outputs": [],
   "source": [
    "# Libraries\n",
    "%load_ext autoreload\n",
    "%autoreload\n",
    "\n",
    "import numpy as np\n",
    "import iris\n",
    "import pandas as pd\n",
    "\n",
    "import sys\n",
    "sys.path.append('../')\n",
    "from libs.plot_maps import *\n",
    "\n",
    "\n",
    "import warnings\n",
    "warnings.filterwarnings('ignore')\n",
    "import matplotlib.pyplot as plt\n",
    "import numpy.ma as ma\n",
    "%matplotlib inline\n",
    "import cartopy.crs as ccrs"
   ]
  },
  {
   "cell_type": "code",
   "execution_count": 54,
   "metadata": {},
   "outputs": [
    {
     "name": "stdout",
     "output_type": "stream",
     "text": [
      "area_fraction / (1)                 (time: 320; -- : 144; -- : 192)\n",
      "     Dimension coordinates:\n",
      "          time                           x         -         -\n",
      "     Attributes:\n",
      "          CDI: Climate Data Interface version 1.9.5 (http://mpimet.mpg.de/cdi)\n",
      "          CDO: Climate Data Operators version 1.9.5 (http://mpimet.mpg.de/cdo)\n",
      "          Conventions: CF-1.6\n",
      "          NCO: netCDF Operators version 4.7.5 (Homepage = http://nco.sf.net, Code = h...\n",
      "          activity_id: input4MIPs\n",
      "          comment: LUH2\n",
      "          contact: gchurtt@umd.edu, lchini@umd.edu, steve.frolking@unh.edu, ritvik@umd.ed...\n",
      "          creation_date: 2016-10-12T18:26:36Z\n",
      "          data_structure: grid\n",
      "          frequency: yr\n",
      "          further_info_url: http://luh.umd.edu\n",
      "          history: Fri Jul 19 11:10:14 2019: ncrename -d lon,longitude states.TRENDYv8.proc.crop.n96e.nc\n",
      "Fri...\n",
      "          host: UMD College Park\n",
      "          institution: University of Maryland College Park\n",
      "          institution_id: UofMD\n",
      "          license: MIT\n",
      "          nco_openmp_thread_number: 1\n",
      "          realm: land\n",
      "          references: Hurtt, Chini et al. 2011\n",
      "          source: LUH2 v2h: Land-Use Harmonization Data Set\n",
      "          source_id: LUH2 v2h\n",
      "          title: Land-Use Harmonization Data Sets\n"
     ]
    }
   ],
   "source": [
    "# Loading in the data\n",
    "dir = '../data/'\n",
    "files = {'cropland'     :'states.TRENDYv8.proc.crop.n96e.nc',\n",
    "         'fract_agr'    :'states.TRENDYv8.proc.frac_agr.n96e.nc',\n",
    "         'pasture'      :'states.TRENDYv8.proc.pastr.n96e.nc'}\n",
    "\n",
    "\n",
    "input_data = {}\n",
    "\n",
    "for key, f in files.items():\n",
    "    dat = iris.load_cube(dir + f, 'area_fraction')\n",
    "    input_data[key] = dat\n",
    "\n",
    "print(input_data['cropland'])"
   ]
  },
  {
   "cell_type": "markdown",
   "metadata": {},
   "source": [
    "Need to add in the dimension coordinates for latitude and longitude, so we're going to load in a UKESM file to pinch the lat and lon dim coords"
   ]
  },
  {
   "cell_type": "code",
   "execution_count": 55,
   "metadata": {},
   "outputs": [
    {
     "name": "stdout",
     "output_type": "stream",
     "text": [
      "m01s03i317 / (1)                    (time: 168; latitude: 144; longitude: 192)\n",
      "     Dimension coordinates:\n",
      "          time                           x              -               -\n",
      "          latitude                       -              x               -\n",
      "          longitude                      -              -               x\n",
      "     Auxiliary coordinates:\n",
      "          forecast_period                x              -               -\n",
      "     Scalar coordinates:\n",
      "          forecast_reference_time: 1850-01-01 00:00:00\n",
      "          pseudo_level: 151, bound=(101, 202)\n",
      "     Attributes:\n",
      "          Conventions: CF-1.5\n",
      "          STASH: m01s03i317\n",
      "          source: Data from Met Office Unified Model\n",
      "          um_version: 10.9\n",
      "     Cell methods:\n",
      "          mean: time (1 hour)\n",
      "          sum: pseudo_level\n"
     ]
    }
   ],
   "source": [
    "template = iris.load_cube(dir + 'canopy2000-2014.nc')\n",
    "print(template)"
   ]
  },
  {
   "cell_type": "code",
   "execution_count": 56,
   "metadata": {},
   "outputs": [],
   "source": [
    "lat = template.coord('latitude').points\n",
    "lon = template.coord('longitude').points"
   ]
  },
  {
   "cell_type": "code",
   "execution_count": 57,
   "metadata": {},
   "outputs": [],
   "source": [
    "crop = input_data['cropland']"
   ]
  },
  {
   "cell_type": "code",
   "execution_count": 58,
   "metadata": {},
   "outputs": [
    {
     "name": "stdout",
     "output_type": "stream",
     "text": [
      "area_fraction / (1)                 (time: 320; latitude: 144; longitude: 192)\n",
      "     Dimension coordinates:\n",
      "          time                           x              -               -\n",
      "          latitude                       -              x               -\n",
      "          longitude                      -              -               x\n",
      "     Attributes:\n",
      "          CDI: Climate Data Interface version 1.9.5 (http://mpimet.mpg.de/cdi)\n",
      "          CDO: Climate Data Operators version 1.9.5 (http://mpimet.mpg.de/cdo)\n",
      "          Conventions: CF-1.6\n",
      "          NCO: netCDF Operators version 4.7.5 (Homepage = http://nco.sf.net, Code = h...\n",
      "          activity_id: input4MIPs\n",
      "          comment: LUH2\n",
      "          contact: gchurtt@umd.edu, lchini@umd.edu, steve.frolking@unh.edu, ritvik@umd.ed...\n",
      "          creation_date: 2016-10-12T18:26:36Z\n",
      "          data_structure: grid\n",
      "          frequency: yr\n",
      "          further_info_url: http://luh.umd.edu\n",
      "          history: Fri Jul 19 11:10:14 2019: ncrename -d lon,longitude states.TRENDYv8.proc.crop.n96e.nc\n",
      "Fri...\n",
      "          host: UMD College Park\n",
      "          institution: University of Maryland College Park\n",
      "          institution_id: UofMD\n",
      "          license: MIT\n",
      "          nco_openmp_thread_number: 1\n",
      "          realm: land\n",
      "          references: Hurtt, Chini et al. 2011\n",
      "          source: LUH2 v2h: Land-Use Harmonization Data Set\n",
      "          source_id: LUH2 v2h\n",
      "          title: Land-Use Harmonization Data Sets\n"
     ]
    }
   ],
   "source": [
    "crop = input_data['cropland']\n",
    "# Dim coord for latitude (index: 1)\n",
    "coord_lat = iris.coords.DimCoord(lat, standard_name='latitude',\n",
    "                                 coord_system=iris.coord_systems.GeogCS(6371229.0),var_name='latitude',\n",
    "                                 units='degrees')\n",
    "crop.add_dim_coord(coord_lat,1)\n",
    "\n",
    "# Dim coord for longitude (index: 2)\n",
    "coord_lon = iris.coords.DimCoord(lon, standard_name='longitude',\n",
    "                                 coord_system=iris.coord_systems.GeogCS(6371229.0),var_name='longitude',\n",
    "                                 units='degrees')\n",
    "crop.add_dim_coord(coord_lon, 2)\n",
    "\n",
    "print(crop)"
   ]
  },
  {
   "cell_type": "code",
   "execution_count": null,
   "metadata": {},
   "outputs": [],
   "source": []
  },
  {
   "cell_type": "code",
   "execution_count": 59,
   "metadata": {},
   "outputs": [],
   "source": [
    "# Load in the mask\n",
    "dir_mask = '../data/climate/'\n",
    "file_mask = 'air.mon.mean.nc'\n",
    "mask = iris.load_cube(dir_mask + file_mask)\n",
    "m = mask.collapsed('time', iris.analysis.MEAN)"
   ]
  },
  {
   "cell_type": "code",
   "execution_count": 39,
   "metadata": {
    "collapsed": true,
    "jupyter": {
     "outputs_hidden": true
    }
   },
   "outputs": [
    {
     "data": {
      "image/png": "[encoded data removed]",
      "text/plain": [
       "<Figure size 432x288 with 6 Axes>"
      ]
     },
     "metadata": {
      "needs_background": "light"
     },
     "output_type": "display_data"
    }
   ],
   "source": [
    "# Plot data to check it looks right\n",
    "nd = 0\n",
    "\n",
    "# plt.figure(figsize = (10, 7.5))\n",
    "\n",
    "for key, dat in input_data.items():\n",
    "    nd = nd + 1\n",
    "    dat = dat.collapsed('time', iris.analysis.MEAN)\n",
    "    dat.long_name = key\n",
    "    plot_lonely_cube(dat, 3, 1, nd, cmap = 'magma', levels = None)"
   ]
  },
  {
   "cell_type": "markdown",
   "metadata": {},
   "source": [
    "### Combining cubes together"
   ]
  },
  {
   "cell_type": "code",
   "execution_count": 40,
   "metadata": {
    "collapsed": true,
    "jupyter": {
     "outputs_hidden": true
    }
   },
   "outputs": [
    {
     "ename": "ValueError",
     "evalue": "No format specification could be found for the given buffer. File element cache:\n {'UriProtocol()': 'file', 'LeadingLine()': 'b\"II*\\\\x00\\\\x08\\\\x00\\\\x00\\\\x00\\\\x11\\\\x00\\\\x00\\\\x01\\\\x03\\\\x00\\\\...', 'MagicNumber(4, None)': '1229531648', 'MagicNumber(8, None)': '5280798217691201536', 'FileExtension()': '.tif', 'MagicNumber(100, None)': \"b'II*\\\\x00\\\\x08\\\\x00\\\\x00\\\\x00\\\\x11\\\\x00\\\\x00\\\\x01\\\\x03\\\\x00\\\\...\"}",
     "output_type": "error",
     "traceback": [
      "\u001b[0;31m---------------------------------------------------------------------------\u001b[0m",
      "\u001b[0;31mValueError\u001b[0m                                Traceback (most recent call last)",
      "\u001b[0;32m<ipython-input-40-48c1da0f0161>\u001b[0m in \u001b[0;36m<module>\u001b[0;34m\u001b[0m\n\u001b[1;32m      2\u001b[0m \u001b[0mfile_tree\u001b[0m \u001b[0;34m=\u001b[0m \u001b[0;34m'tree_cover_global.2000.tif'\u001b[0m\u001b[0;34m\u001b[0m\u001b[0;34m\u001b[0m\u001b[0m\n\u001b[1;32m      3\u001b[0m \u001b[0;34m\u001b[0m\u001b[0m\n\u001b[0;32m----> 4\u001b[0;31m \u001b[0mtree\u001b[0m \u001b[0;34m=\u001b[0m \u001b[0miris\u001b[0m\u001b[0;34m.\u001b[0m\u001b[0mload_cube\u001b[0m\u001b[0;34m(\u001b[0m\u001b[0mdir_tree\u001b[0m  \u001b[0;34m+\u001b[0m \u001b[0mfile_tree\u001b[0m\u001b[0;34m)\u001b[0m\u001b[0;34m\u001b[0m\u001b[0;34m\u001b[0m\u001b[0m\n\u001b[0m",
      "\u001b[0;32m~/miniconda3/envs/conFIRE/lib/python3.7/site-packages/iris/__init__.py\u001b[0m in \u001b[0;36mload_cube\u001b[0;34m(uris, constraint, callback)\u001b[0m\n\u001b[1;32m    371\u001b[0m         \u001b[0;32mraise\u001b[0m \u001b[0mValueError\u001b[0m\u001b[0;34m(\u001b[0m\u001b[0;34m'only a single constraint is allowed'\u001b[0m\u001b[0;34m)\u001b[0m\u001b[0;34m\u001b[0m\u001b[0;34m\u001b[0m\u001b[0m\n\u001b[1;32m    372\u001b[0m \u001b[0;34m\u001b[0m\u001b[0m\n\u001b[0;32m--> 373\u001b[0;31m     \u001b[0mcubes\u001b[0m \u001b[0;34m=\u001b[0m \u001b[0m_load_collection\u001b[0m\u001b[0;34m(\u001b[0m\u001b[0muris\u001b[0m\u001b[0;34m,\u001b[0m \u001b[0mconstraints\u001b[0m\u001b[0;34m,\u001b[0m \u001b[0mcallback\u001b[0m\u001b[0;34m)\u001b[0m\u001b[0;34m\u001b[0m\u001b[0;34m\u001b[0m\u001b[0m\n\u001b[0m\u001b[1;32m    374\u001b[0m     \u001b[0mcubes\u001b[0m \u001b[0;34m=\u001b[0m \u001b[0mcubes\u001b[0m\u001b[0;34m.\u001b[0m\u001b[0mmerged\u001b[0m\u001b[0;34m(\u001b[0m\u001b[0;34m)\u001b[0m\u001b[0;34m.\u001b[0m\u001b[0mcubes\u001b[0m\u001b[0;34m(\u001b[0m\u001b[0;34m)\u001b[0m\u001b[0;34m\u001b[0m\u001b[0;34m\u001b[0m\u001b[0m\n\u001b[1;32m    375\u001b[0m \u001b[0;34m\u001b[0m\u001b[0m\n",
      "\u001b[0;32m~/miniconda3/envs/conFIRE/lib/python3.7/site-packages/iris/__init__.py\u001b[0m in \u001b[0;36m_load_collection\u001b[0;34m(uris, constraints, callback)\u001b[0m\n\u001b[1;32m    311\u001b[0m     \u001b[0;32mtry\u001b[0m\u001b[0;34m:\u001b[0m\u001b[0;34m\u001b[0m\u001b[0;34m\u001b[0m\u001b[0m\n\u001b[1;32m    312\u001b[0m         \u001b[0mcubes\u001b[0m \u001b[0;34m=\u001b[0m \u001b[0m_generate_cubes\u001b[0m\u001b[0;34m(\u001b[0m\u001b[0muris\u001b[0m\u001b[0;34m,\u001b[0m \u001b[0mcallback\u001b[0m\u001b[0;34m,\u001b[0m \u001b[0mconstraints\u001b[0m\u001b[0;34m)\u001b[0m\u001b[0;34m\u001b[0m\u001b[0;34m\u001b[0m\u001b[0m\n\u001b[0;32m--> 313\u001b[0;31m         \u001b[0mresult\u001b[0m \u001b[0;34m=\u001b[0m \u001b[0miris\u001b[0m\u001b[0;34m.\u001b[0m\u001b[0mcube\u001b[0m\u001b[0;34m.\u001b[0m\u001b[0m_CubeFilterCollection\u001b[0m\u001b[0;34m.\u001b[0m\u001b[0mfrom_cubes\u001b[0m\u001b[0;34m(\u001b[0m\u001b[0mcubes\u001b[0m\u001b[0;34m,\u001b[0m \u001b[0mconstraints\u001b[0m\u001b[0;34m)\u001b[0m\u001b[0;34m\u001b[0m\u001b[0;34m\u001b[0m\u001b[0m\n\u001b[0m\u001b[1;32m    314\u001b[0m     \u001b[0;32mexcept\u001b[0m \u001b[0mEOFError\u001b[0m \u001b[0;32mas\u001b[0m \u001b[0me\u001b[0m\u001b[0;34m:\u001b[0m\u001b[0;34m\u001b[0m\u001b[0;34m\u001b[0m\u001b[0m\n\u001b[1;32m    315\u001b[0m         raise iris.exceptions.TranslationError(\n",
      "\u001b[0;32m~/miniconda3/envs/conFIRE/lib/python3.7/site-packages/iris/cube.py\u001b[0m in \u001b[0;36mfrom_cubes\u001b[0;34m(cubes, constraints)\u001b[0m\n\u001b[1;32m    143\u001b[0m         \u001b[0mpairs\u001b[0m \u001b[0;34m=\u001b[0m \u001b[0;34m[\u001b[0m\u001b[0m_CubeFilter\u001b[0m\u001b[0;34m(\u001b[0m\u001b[0mconstraint\u001b[0m\u001b[0;34m)\u001b[0m \u001b[0;32mfor\u001b[0m \u001b[0mconstraint\u001b[0m \u001b[0;32min\u001b[0m \u001b[0mconstraints\u001b[0m\u001b[0;34m]\u001b[0m\u001b[0;34m\u001b[0m\u001b[0;34m\u001b[0m\u001b[0m\n\u001b[1;32m    144\u001b[0m         \u001b[0mcollection\u001b[0m \u001b[0;34m=\u001b[0m \u001b[0m_CubeFilterCollection\u001b[0m\u001b[0;34m(\u001b[0m\u001b[0mpairs\u001b[0m\u001b[0;34m)\u001b[0m\u001b[0;34m\u001b[0m\u001b[0;34m\u001b[0m\u001b[0m\n\u001b[0;32m--> 145\u001b[0;31m         \u001b[0;32mfor\u001b[0m \u001b[0mcube\u001b[0m \u001b[0;32min\u001b[0m \u001b[0mcubes\u001b[0m\u001b[0;34m:\u001b[0m\u001b[0;34m\u001b[0m\u001b[0;34m\u001b[0m\u001b[0m\n\u001b[0m\u001b[1;32m    146\u001b[0m             \u001b[0mcollection\u001b[0m\u001b[0;34m.\u001b[0m\u001b[0madd_cube\u001b[0m\u001b[0;34m(\u001b[0m\u001b[0mcube\u001b[0m\u001b[0;34m)\u001b[0m\u001b[0;34m\u001b[0m\u001b[0;34m\u001b[0m\u001b[0m\n\u001b[1;32m    147\u001b[0m         \u001b[0;32mreturn\u001b[0m \u001b[0mcollection\u001b[0m\u001b[0;34m\u001b[0m\u001b[0;34m\u001b[0m\u001b[0m\n",
      "\u001b[0;32m~/miniconda3/envs/conFIRE/lib/python3.7/site-packages/iris/__init__.py\u001b[0m in \u001b[0;36m_generate_cubes\u001b[0;34m(uris, callback, constraints)\u001b[0m\n\u001b[1;32m    298\u001b[0m         \u001b[0;32mif\u001b[0m \u001b[0mscheme\u001b[0m \u001b[0;34m==\u001b[0m \u001b[0;34m'file'\u001b[0m\u001b[0;34m:\u001b[0m\u001b[0;34m\u001b[0m\u001b[0;34m\u001b[0m\u001b[0m\n\u001b[1;32m    299\u001b[0m             \u001b[0mpart_names\u001b[0m \u001b[0;34m=\u001b[0m \u001b[0;34m[\u001b[0m\u001b[0mx\u001b[0m\u001b[0;34m[\u001b[0m\u001b[0;36m1\u001b[0m\u001b[0;34m]\u001b[0m \u001b[0;32mfor\u001b[0m \u001b[0mx\u001b[0m \u001b[0;32min\u001b[0m \u001b[0mgroups\u001b[0m\u001b[0;34m]\u001b[0m\u001b[0;34m\u001b[0m\u001b[0;34m\u001b[0m\u001b[0m\n\u001b[0;32m--> 300\u001b[0;31m             \u001b[0;32mfor\u001b[0m \u001b[0mcube\u001b[0m \u001b[0;32min\u001b[0m \u001b[0miris\u001b[0m\u001b[0;34m.\u001b[0m\u001b[0mio\u001b[0m\u001b[0;34m.\u001b[0m\u001b[0mload_files\u001b[0m\u001b[0;34m(\u001b[0m\u001b[0mpart_names\u001b[0m\u001b[0;34m,\u001b[0m \u001b[0mcallback\u001b[0m\u001b[0;34m,\u001b[0m \u001b[0mconstraints\u001b[0m\u001b[0;34m)\u001b[0m\u001b[0;34m:\u001b[0m\u001b[0;34m\u001b[0m\u001b[0;34m\u001b[0m\u001b[0m\n\u001b[0m\u001b[1;32m    301\u001b[0m                 \u001b[0;32myield\u001b[0m \u001b[0mcube\u001b[0m\u001b[0;34m\u001b[0m\u001b[0;34m\u001b[0m\u001b[0m\n\u001b[1;32m    302\u001b[0m         \u001b[0;32melif\u001b[0m \u001b[0mscheme\u001b[0m \u001b[0;32min\u001b[0m \u001b[0;34m[\u001b[0m\u001b[0;34m'http'\u001b[0m\u001b[0;34m,\u001b[0m \u001b[0;34m'https'\u001b[0m\u001b[0;34m]\u001b[0m\u001b[0;34m:\u001b[0m\u001b[0;34m\u001b[0m\u001b[0;34m\u001b[0m\u001b[0m\n",
      "\u001b[0;32m~/miniconda3/envs/conFIRE/lib/python3.7/site-packages/iris/io/__init__.py\u001b[0m in \u001b[0;36mload_files\u001b[0;34m(filenames, callback, constraints)\u001b[0m\n\u001b[1;32m    197\u001b[0m     \u001b[0;32mfor\u001b[0m \u001b[0mfn\u001b[0m \u001b[0;32min\u001b[0m \u001b[0mall_file_paths\u001b[0m\u001b[0;34m:\u001b[0m\u001b[0;34m\u001b[0m\u001b[0;34m\u001b[0m\u001b[0m\n\u001b[1;32m    198\u001b[0m         \u001b[0;32mwith\u001b[0m \u001b[0mopen\u001b[0m\u001b[0;34m(\u001b[0m\u001b[0mfn\u001b[0m\u001b[0;34m,\u001b[0m \u001b[0;34m'rb'\u001b[0m\u001b[0;34m)\u001b[0m \u001b[0;32mas\u001b[0m \u001b[0mfh\u001b[0m\u001b[0;34m:\u001b[0m\u001b[0;34m\u001b[0m\u001b[0;34m\u001b[0m\u001b[0m\n\u001b[0;32m--> 199\u001b[0;31m             \u001b[0mhandling_format_spec\u001b[0m \u001b[0;34m=\u001b[0m \u001b[0miris\u001b[0m\u001b[0;34m.\u001b[0m\u001b[0mfileformats\u001b[0m\u001b[0;34m.\u001b[0m\u001b[0mFORMAT_AGENT\u001b[0m\u001b[0;34m.\u001b[0m\u001b[0mget_spec\u001b[0m\u001b[0;34m(\u001b[0m\u001b[0mos\u001b[0m\u001b[0;34m.\u001b[0m\u001b[0mpath\u001b[0m\u001b[0;34m.\u001b[0m\u001b[0mbasename\u001b[0m\u001b[0;34m(\u001b[0m\u001b[0mfn\u001b[0m\u001b[0;34m)\u001b[0m\u001b[0;34m,\u001b[0m \u001b[0mfh\u001b[0m\u001b[0;34m)\u001b[0m\u001b[0;34m\u001b[0m\u001b[0;34m\u001b[0m\u001b[0m\n\u001b[0m\u001b[1;32m    200\u001b[0m             \u001b[0mhandler_map\u001b[0m\u001b[0;34m[\u001b[0m\u001b[0mhandling_format_spec\u001b[0m\u001b[0;34m]\u001b[0m\u001b[0;34m.\u001b[0m\u001b[0mappend\u001b[0m\u001b[0;34m(\u001b[0m\u001b[0mfn\u001b[0m\u001b[0;34m)\u001b[0m\u001b[0;34m\u001b[0m\u001b[0;34m\u001b[0m\u001b[0m\n\u001b[1;32m    201\u001b[0m \u001b[0;34m\u001b[0m\u001b[0m\n",
      "\u001b[0;32m~/miniconda3/envs/conFIRE/lib/python3.7/site-packages/iris/io/format_picker.py\u001b[0m in \u001b[0;36mget_spec\u001b[0;34m(self, basename, buffer_obj)\u001b[0m\n\u001b[1;32m    150\u001b[0m         msg = ('No format specification could be found for the given buffer.'\n\u001b[1;32m    151\u001b[0m                ' File element cache:\\n {}'.format(printable_values))\n\u001b[0;32m--> 152\u001b[0;31m         \u001b[0;32mraise\u001b[0m \u001b[0mValueError\u001b[0m\u001b[0;34m(\u001b[0m\u001b[0mmsg\u001b[0m\u001b[0;34m)\u001b[0m\u001b[0;34m\u001b[0m\u001b[0;34m\u001b[0m\u001b[0m\n\u001b[0m\u001b[1;32m    153\u001b[0m \u001b[0;34m\u001b[0m\u001b[0m\n\u001b[1;32m    154\u001b[0m \u001b[0;34m\u001b[0m\u001b[0m\n",
      "\u001b[0;31mValueError\u001b[0m: No format specification could be found for the given buffer. File element cache:\n {'UriProtocol()': 'file', 'LeadingLine()': 'b\"II*\\\\x00\\\\x08\\\\x00\\\\x00\\\\x00\\\\x11\\\\x00\\\\x00\\\\x01\\\\x03\\\\x00\\\\...', 'MagicNumber(4, None)': '1229531648', 'MagicNumber(8, None)': '5280798217691201536', 'FileExtension()': '.tif', 'MagicNumber(100, None)': \"b'II*\\\\x00\\\\x08\\\\x00\\\\x00\\\\x00\\\\x11\\\\x00\\\\x00\\\\x01\\\\x03\\\\x00\\\\...\"}"
     ]
    }
   ],
   "source": [
    "dir_tree = '../data/treecover/'\n",
    "file_tree = 'tree_cover_global.2000.tif'\n",
    "\n",
    "tree = iris.load_cube(dir_tree  + file_tree)"
   ]
  },
  {
   "cell_type": "markdown",
   "metadata": {},
   "source": [
    "### Regridding all variables"
   ]
  },
  {
   "cell_type": "code",
   "execution_count": 60,
   "metadata": {},
   "outputs": [
    {
     "ename": "ValueError",
     "evalue": "The rectilinear grid coordinates of the given cube and target grid must either both have coordinate systems or both have no coordinate system but with matching coordinate metadata.",
     "output_type": "error",
     "traceback": [
      "\u001b[0;31m---------------------------------------------------------------------------\u001b[0m",
      "\u001b[0;31mValueError\u001b[0m                                Traceback (most recent call last)",
      "\u001b[0;32m<ipython-input-60-a6055fd53004>\u001b[0m in \u001b[0;36m<module>\u001b[0;34m\u001b[0m\n\u001b[0;32m----> 1\u001b[0;31m \u001b[0mm_cropland\u001b[0m \u001b[0;34m=\u001b[0m \u001b[0minput_data\u001b[0m\u001b[0;34m[\u001b[0m\u001b[0;34m'cropland'\u001b[0m\u001b[0;34m]\u001b[0m\u001b[0;34m.\u001b[0m\u001b[0mregrid\u001b[0m\u001b[0;34m(\u001b[0m\u001b[0mm\u001b[0m\u001b[0;34m,\u001b[0m \u001b[0miris\u001b[0m\u001b[0;34m.\u001b[0m\u001b[0manalysis\u001b[0m\u001b[0;34m.\u001b[0m\u001b[0mLinear\u001b[0m\u001b[0;34m(\u001b[0m\u001b[0;34m)\u001b[0m\u001b[0;34m)\u001b[0m\u001b[0;34m\u001b[0m\u001b[0;34m\u001b[0m\u001b[0m\n\u001b[0m",
      "\u001b[0;32m~/miniconda3/envs/conFIRE/lib/python3.7/site-packages/iris/cube.py\u001b[0m in \u001b[0;36mregrid\u001b[0;34m(self, grid, scheme)\u001b[0m\n\u001b[1;32m   3743\u001b[0m         \"\"\"\n\u001b[1;32m   3744\u001b[0m         \u001b[0mregridder\u001b[0m \u001b[0;34m=\u001b[0m \u001b[0mscheme\u001b[0m\u001b[0;34m.\u001b[0m\u001b[0mregridder\u001b[0m\u001b[0;34m(\u001b[0m\u001b[0mself\u001b[0m\u001b[0;34m,\u001b[0m \u001b[0mgrid\u001b[0m\u001b[0;34m)\u001b[0m\u001b[0;34m\u001b[0m\u001b[0;34m\u001b[0m\u001b[0m\n\u001b[0;32m-> 3745\u001b[0;31m         \u001b[0;32mreturn\u001b[0m \u001b[0mregridder\u001b[0m\u001b[0;34m(\u001b[0m\u001b[0mself\u001b[0m\u001b[0;34m)\u001b[0m\u001b[0;34m\u001b[0m\u001b[0;34m\u001b[0m\u001b[0m\n\u001b[0m\u001b[1;32m   3746\u001b[0m \u001b[0;34m\u001b[0m\u001b[0m\n\u001b[1;32m   3747\u001b[0m \u001b[0;34m\u001b[0m\u001b[0m\n",
      "\u001b[0;32m~/miniconda3/envs/conFIRE/lib/python3.7/site-packages/iris/analysis/_regrid.py\u001b[0m in \u001b[0;36m__call__\u001b[0;34m(self, src)\u001b[0m\n\u001b[1;32m    515\u001b[0m                                  \"matching coordinate metadata.\")\n\u001b[1;32m    516\u001b[0m         \u001b[0;32melif\u001b[0m \u001b[0msrc_cs\u001b[0m \u001b[0;32mis\u001b[0m \u001b[0;32mNone\u001b[0m \u001b[0;32mor\u001b[0m \u001b[0mgrid_cs\u001b[0m \u001b[0;32mis\u001b[0m \u001b[0;32mNone\u001b[0m\u001b[0;34m:\u001b[0m\u001b[0;34m\u001b[0m\u001b[0;34m\u001b[0m\u001b[0m\n\u001b[0;32m--> 517\u001b[0;31m             raise ValueError(\"The rectilinear grid coordinates of the given \"\n\u001b[0m\u001b[1;32m    518\u001b[0m                              \u001b[0;34m\"cube and target grid must either both have \"\u001b[0m\u001b[0;34m\u001b[0m\u001b[0;34m\u001b[0m\u001b[0m\n\u001b[1;32m    519\u001b[0m                              \u001b[0;34m\"coordinate systems or both have no coordinate \"\u001b[0m\u001b[0;34m\u001b[0m\u001b[0;34m\u001b[0m\u001b[0m\n",
      "\u001b[0;31mValueError\u001b[0m: The rectilinear grid coordinates of the given cube and target grid must either both have coordinate systems or both have no coordinate system but with matching coordinate metadata."
     ]
    }
   ],
   "source": [
    "m_cropland = input_data['cropland'].regrid(m, iris.analysis.Linear())"
   ]
  },
  {
   "cell_type": "code",
   "execution_count": 47,
   "metadata": {},
   "outputs": [
    {
     "ename": "ValueError",
     "evalue": "Cube 'area_fraction' must contain a single 1D x coordinate.",
     "output_type": "error",
     "traceback": [
      "\u001b[0;31m---------------------------------------------------------------------------\u001b[0m",
      "\u001b[0;31mValueError\u001b[0m                                Traceback (most recent call last)",
      "\u001b[0;32m<ipython-input-47-5fca1b0dd832>\u001b[0m in \u001b[0;36m<module>\u001b[0;34m\u001b[0m\n\u001b[1;32m      2\u001b[0m \u001b[0;34m\u001b[0m\u001b[0m\n\u001b[1;32m      3\u001b[0m \u001b[0;32mfor\u001b[0m \u001b[0mkey\u001b[0m \u001b[0;32min\u001b[0m \u001b[0minput_data\u001b[0m\u001b[0;34m.\u001b[0m\u001b[0mkeys\u001b[0m\u001b[0;34m(\u001b[0m\u001b[0;34m)\u001b[0m\u001b[0;34m:\u001b[0m\u001b[0;34m\u001b[0m\u001b[0;34m\u001b[0m\u001b[0m\n\u001b[0;32m----> 4\u001b[0;31m     \u001b[0mdat\u001b[0m \u001b[0;34m=\u001b[0m \u001b[0minput_data\u001b[0m\u001b[0;34m[\u001b[0m\u001b[0mkey\u001b[0m\u001b[0;34m]\u001b[0m\u001b[0;34m.\u001b[0m\u001b[0mregrid\u001b[0m\u001b[0;34m(\u001b[0m\u001b[0mm\u001b[0m\u001b[0;34m,\u001b[0m \u001b[0miris\u001b[0m\u001b[0;34m.\u001b[0m\u001b[0manalysis\u001b[0m\u001b[0;34m.\u001b[0m\u001b[0mLinear\u001b[0m\u001b[0;34m(\u001b[0m\u001b[0;34m)\u001b[0m\u001b[0;34m)\u001b[0m\u001b[0;34m\u001b[0m\u001b[0;34m\u001b[0m\u001b[0m\n\u001b[0m\u001b[1;32m      5\u001b[0m     \u001b[0mremasked_data\u001b[0m\u001b[0;34m[\u001b[0m\u001b[0mkey\u001b[0m\u001b[0;34m]\u001b[0m \u001b[0;34m=\u001b[0m \u001b[0mdat\u001b[0m\u001b[0;34m\u001b[0m\u001b[0;34m\u001b[0m\u001b[0m\n",
      "\u001b[0;32m~/miniconda3/envs/conFIRE/lib/python3.7/site-packages/iris/cube.py\u001b[0m in \u001b[0;36mregrid\u001b[0;34m(self, grid, scheme)\u001b[0m\n\u001b[1;32m   3742\u001b[0m \u001b[0;34m\u001b[0m\u001b[0m\n\u001b[1;32m   3743\u001b[0m         \"\"\"\n\u001b[0;32m-> 3744\u001b[0;31m         \u001b[0mregridder\u001b[0m \u001b[0;34m=\u001b[0m \u001b[0mscheme\u001b[0m\u001b[0;34m.\u001b[0m\u001b[0mregridder\u001b[0m\u001b[0;34m(\u001b[0m\u001b[0mself\u001b[0m\u001b[0;34m,\u001b[0m \u001b[0mgrid\u001b[0m\u001b[0;34m)\u001b[0m\u001b[0;34m\u001b[0m\u001b[0;34m\u001b[0m\u001b[0m\n\u001b[0m\u001b[1;32m   3745\u001b[0m         \u001b[0;32mreturn\u001b[0m \u001b[0mregridder\u001b[0m\u001b[0;34m(\u001b[0m\u001b[0mself\u001b[0m\u001b[0;34m)\u001b[0m\u001b[0;34m\u001b[0m\u001b[0;34m\u001b[0m\u001b[0m\n\u001b[1;32m   3746\u001b[0m \u001b[0;34m\u001b[0m\u001b[0m\n",
      "\u001b[0;32m~/miniconda3/envs/conFIRE/lib/python3.7/site-packages/iris/analysis/__init__.py\u001b[0m in \u001b[0;36mregridder\u001b[0;34m(self, src_grid, target_grid)\u001b[0m\n\u001b[1;32m   2239\u001b[0m         \"\"\"\n\u001b[1;32m   2240\u001b[0m         return RectilinearRegridder(src_grid, target_grid, 'linear',\n\u001b[0;32m-> 2241\u001b[0;31m                                     self._normalised_extrapolation_mode())\n\u001b[0m\u001b[1;32m   2242\u001b[0m \u001b[0;34m\u001b[0m\u001b[0m\n\u001b[1;32m   2243\u001b[0m \u001b[0;34m\u001b[0m\u001b[0m\n",
      "\u001b[0;32m~/miniconda3/envs/conFIRE/lib/python3.7/site-packages/iris/analysis/_regrid.py\u001b[0m in \u001b[0;36m__init__\u001b[0;34m(self, src_grid_cube, tgt_grid_cube, method, extrapolation_mode)\u001b[0m\n\u001b[1;32m     78\u001b[0m         \u001b[0;31m# Snapshot the state of the cubes to ensure that the regridder\u001b[0m\u001b[0;34m\u001b[0m\u001b[0;34m\u001b[0m\u001b[0;34m\u001b[0m\u001b[0m\n\u001b[1;32m     79\u001b[0m         \u001b[0;31m# is impervious to external changes to the original source cubes.\u001b[0m\u001b[0;34m\u001b[0m\u001b[0;34m\u001b[0m\u001b[0;34m\u001b[0m\u001b[0m\n\u001b[0;32m---> 80\u001b[0;31m         \u001b[0mself\u001b[0m\u001b[0;34m.\u001b[0m\u001b[0m_src_grid\u001b[0m \u001b[0;34m=\u001b[0m \u001b[0msnapshot_grid\u001b[0m\u001b[0;34m(\u001b[0m\u001b[0msrc_grid_cube\u001b[0m\u001b[0;34m)\u001b[0m\u001b[0;34m\u001b[0m\u001b[0;34m\u001b[0m\u001b[0m\n\u001b[0m\u001b[1;32m     81\u001b[0m         \u001b[0mself\u001b[0m\u001b[0;34m.\u001b[0m\u001b[0m_tgt_grid\u001b[0m \u001b[0;34m=\u001b[0m \u001b[0msnapshot_grid\u001b[0m\u001b[0;34m(\u001b[0m\u001b[0mtgt_grid_cube\u001b[0m\u001b[0;34m)\u001b[0m\u001b[0;34m\u001b[0m\u001b[0;34m\u001b[0m\u001b[0m\n\u001b[1;32m     82\u001b[0m         \u001b[0;31m# Check the target grid units.\u001b[0m\u001b[0;34m\u001b[0m\u001b[0;34m\u001b[0m\u001b[0;34m\u001b[0m\u001b[0m\n",
      "\u001b[0;32m~/miniconda3/envs/conFIRE/lib/python3.7/site-packages/iris/analysis/_interpolation.py\u001b[0m in \u001b[0;36msnapshot_grid\u001b[0;34m(cube)\u001b[0m\n\u001b[1;32m    180\u001b[0m \u001b[0;34m\u001b[0m\u001b[0m\n\u001b[1;32m    181\u001b[0m     \"\"\"\n\u001b[0;32m--> 182\u001b[0;31m     \u001b[0mx\u001b[0m\u001b[0;34m,\u001b[0m \u001b[0my\u001b[0m \u001b[0;34m=\u001b[0m \u001b[0mget_xy_dim_coords\u001b[0m\u001b[0;34m(\u001b[0m\u001b[0mcube\u001b[0m\u001b[0;34m)\u001b[0m\u001b[0;34m\u001b[0m\u001b[0;34m\u001b[0m\u001b[0m\n\u001b[0m\u001b[1;32m    183\u001b[0m     \u001b[0;32mreturn\u001b[0m \u001b[0mx\u001b[0m\u001b[0;34m.\u001b[0m\u001b[0mcopy\u001b[0m\u001b[0;34m(\u001b[0m\u001b[0;34m)\u001b[0m\u001b[0;34m,\u001b[0m \u001b[0my\u001b[0m\u001b[0;34m.\u001b[0m\u001b[0mcopy\u001b[0m\u001b[0;34m(\u001b[0m\u001b[0;34m)\u001b[0m\u001b[0;34m\u001b[0m\u001b[0;34m\u001b[0m\u001b[0m\n\u001b[1;32m    184\u001b[0m \u001b[0;34m\u001b[0m\u001b[0m\n",
      "\u001b[0;32m~/miniconda3/envs/conFIRE/lib/python3.7/site-packages/iris/analysis/_interpolation.py\u001b[0m in \u001b[0;36mget_xy_dim_coords\u001b[0;34m(cube)\u001b[0m\n\u001b[1;32m    127\u001b[0m \u001b[0;34m\u001b[0m\u001b[0m\n\u001b[1;32m    128\u001b[0m     \"\"\"\n\u001b[0;32m--> 129\u001b[0;31m     \u001b[0;32mreturn\u001b[0m \u001b[0mget_xy_coords\u001b[0m\u001b[0;34m(\u001b[0m\u001b[0mcube\u001b[0m\u001b[0;34m,\u001b[0m \u001b[0mdim_coords\u001b[0m\u001b[0;34m=\u001b[0m\u001b[0;32mTrue\u001b[0m\u001b[0;34m)\u001b[0m\u001b[0;34m\u001b[0m\u001b[0;34m\u001b[0m\u001b[0m\n\u001b[0m\u001b[1;32m    130\u001b[0m \u001b[0;34m\u001b[0m\u001b[0m\n\u001b[1;32m    131\u001b[0m \u001b[0;34m\u001b[0m\u001b[0m\n",
      "\u001b[0;32m~/miniconda3/envs/conFIRE/lib/python3.7/site-packages/iris/analysis/_interpolation.py\u001b[0m in \u001b[0;36mget_xy_coords\u001b[0;34m(cube, dim_coords)\u001b[0m\n\u001b[1;32m    157\u001b[0m     \u001b[0;32mif\u001b[0m \u001b[0mlen\u001b[0m\u001b[0;34m(\u001b[0m\u001b[0mx_coords\u001b[0m\u001b[0;34m)\u001b[0m \u001b[0;34m!=\u001b[0m \u001b[0;36m1\u001b[0m \u001b[0;32mor\u001b[0m \u001b[0mx_coords\u001b[0m\u001b[0;34m[\u001b[0m\u001b[0;36m0\u001b[0m\u001b[0;34m]\u001b[0m\u001b[0;34m.\u001b[0m\u001b[0mndim\u001b[0m \u001b[0;34m!=\u001b[0m \u001b[0;36m1\u001b[0m\u001b[0;34m:\u001b[0m\u001b[0;34m\u001b[0m\u001b[0;34m\u001b[0m\u001b[0m\n\u001b[1;32m    158\u001b[0m         raise ValueError('Cube {!r} must contain a single 1D x '\n\u001b[0;32m--> 159\u001b[0;31m                          'coordinate.'.format(cube.name()))\n\u001b[0m\u001b[1;32m    160\u001b[0m     \u001b[0mx_coord\u001b[0m \u001b[0;34m=\u001b[0m \u001b[0mx_coords\u001b[0m\u001b[0;34m[\u001b[0m\u001b[0;36m0\u001b[0m\u001b[0;34m]\u001b[0m\u001b[0;34m\u001b[0m\u001b[0;34m\u001b[0m\u001b[0m\n\u001b[1;32m    161\u001b[0m \u001b[0;34m\u001b[0m\u001b[0m\n",
      "\u001b[0;31mValueError\u001b[0m: Cube 'area_fraction' must contain a single 1D x coordinate."
     ]
    }
   ],
   "source": [
    "remasked_data = {}\n",
    "\n",
    "for key in input_data.keys():\n",
    "    dat = input_data[key].regrid(m, iris.analysis.Linear())\n",
    "    remasked_data[key] = dat "
   ]
  },
  {
   "cell_type": "markdown",
   "metadata": {},
   "source": [
    "Saving the data"
   ]
  },
  {
   "cell_type": "code",
   "execution_count": null,
   "metadata": {},
   "outputs": [],
   "source": [
    "for key, dat in remasked_data.items():\n",
    "    new_file_names = key + \"_masked.nc\"\n",
    "    out = '../data/land_use/' + new_file_names\n",
    "    print(new_file_names)\n",
    "#     iris.save(dat, out)"
   ]
  }
 ],
 "metadata": {
  "kernelspec": {
   "display_name": "Python 3",
   "language": "python",
   "name": "python3"
  },
  "language_info": {
   "codemirror_mode": {
    "name": "ipython",
    "version": 3
   },
   "file_extension": ".py",
   "mimetype": "text/x-python",
   "name": "python",
   "nbconvert_exporter": "python",
   "pygments_lexer": "ipython3",
   "version": "3.7.4"
  }
 },
 "nbformat": 4,
 "nbformat_minor": 4
}
