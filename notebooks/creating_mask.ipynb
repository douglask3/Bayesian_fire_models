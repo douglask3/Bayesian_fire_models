{
 "cells": [
  {
   "cell_type": "markdown",
   "metadata": {},
   "source": [
    "## Creating a mask for climate data\n",
    "\n",
    "This script turns one of the climate data files into a mask onto which other files can be regridded. The coord_system is defined as ``iris.coord_systems.GeogCS(6371229.0)`` which appears to make it work"
   ]
  },
  {
   "cell_type": "code",
   "execution_count": null,
   "metadata": {},
   "outputs": [],
   "source": [
    "# Libraries\n",
    "%load_ext autoreload\n",
    "%autoreload\n",
    "\n",
    "import numpy as np\n",
    "import iris\n",
    "import pandas as pd\n",
    "\n",
    "import sys\n",
    "sys.path.append('../')\n",
    "from libs.plot_maps import *\n",
    "\n",
    "\n",
    "import warnings\n",
    "warnings.filterwarnings('ignore')\n",
    "import matplotlib.pyplot as plt\n",
    "import numpy.ma as ma\n",
    "%matplotlib inline\n",
    "import cartopy.crs as ccrs"
   ]
  },
  {
   "cell_type": "markdown",
   "metadata": {},
   "source": [
    "Load in the mask"
   ]
  },
  {
   "cell_type": "code",
   "execution_count": null,
   "metadata": {},
   "outputs": [],
   "source": [
    "dir_mask = '../data/climate/'\n",
    "file_mask = 'air.mon.mean.nc'\n",
    "mask = iris.load_cube(dir_mask + file_mask)\n",
    "m = mask.collapsed('time', iris.analysis.MEAN)"
   ]
  },
  {
   "cell_type": "code",
   "execution_count": null,
   "metadata": {},
   "outputs": [],
   "source": [
    "# Saving the coordinates array\n",
    "m_lat = m.coord('latitude').points\n",
    "m_lon = m.coord('longitude').points\n",
    "\n",
    "# Remove the coordinates, so we can define them properly\n",
    "m.remove_coord('latitude')\n",
    "m.remove_coord('longitude')"
   ]
  },
  {
   "cell_type": "markdown",
   "metadata": {},
   "source": [
    "Adjusting the coordinates"
   ]
  },
  {
   "cell_type": "code",
   "execution_count": null,
   "metadata": {},
   "outputs": [],
   "source": [
    "# Adding back in the lat coord\n",
    "m_coord_lat = iris.coords.DimCoord(m_lat,standard_name='latitude',\n",
    "                                 coord_system=iris.coord_systems.GeogCS(6371229.0),var_name='latitude',\n",
    "                                 units='degrees')\n",
    "m.add_dim_coord(m_coord_lat, 0)\n",
    "\n",
    "# Adding back in the lon coord\n",
    "m_coord_lon = iris.coords.DimCoord(m_lon, standard_name='longitude',\n",
    "                                 coord_system=iris.coord_systems.GeogCS(6371229.0),var_name='longitude',\n",
    "                                 units='degrees')\n",
    "m.add_dim_coord(m_coord_lon, 1)"
   ]
  },
  {
   "cell_type": "code",
   "execution_count": null,
   "metadata": {},
   "outputs": [],
   "source": [
    "iris.save(m, dir_mask + 'climate_mask.nc\")"
   ]
  }
 ],
 "metadata": {
  "kernelspec": {
   "display_name": "Python 3",
   "language": "python",
   "name": "python3"
  },
  "language_info": {
   "codemirror_mode": {
    "name": "ipython",
    "version": 3
   },
   "file_extension": ".py",
   "mimetype": "text/x-python",
   "name": "python",
   "nbconvert_exporter": "python",
   "pygments_lexer": "ipython3",
   "version": "3.7.4"
  }
 },
 "nbformat": 4,
 "nbformat_minor": 4
}
